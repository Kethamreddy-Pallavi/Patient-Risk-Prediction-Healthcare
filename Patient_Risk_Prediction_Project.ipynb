{
 "cells": [
  {
   "cell_type": "code",
   "execution_count": null,
   "id": "dea928ac",
   "metadata": {},
   "outputs": [],
   "source": [
    "\n",
    "from pyspark.sql import SparkSession\n",
    "spark = SparkSession.builder.appName(\"Patient Risk Prediction\").getOrCreate()\n"
   ]
  },
  {
   "cell_type": "code",
   "execution_count": null,
   "id": "abf93fc6",
   "metadata": {},
   "outputs": [],
   "source": [
    "\n",
    "csv_path = \"/FileStore/tables/updated_patient_data.csv\"\n",
    "df = spark.read.csv(csv_path, header=True, inferSchema=True)\n",
    "df.show()\n"
   ]
  },
  {
   "cell_type": "code",
   "execution_count": null,
   "id": "f220ba33",
   "metadata": {},
   "outputs": [],
   "source": [
    "\n",
    "from pyspark.ml.feature import VectorAssembler\n",
    "assembler = VectorAssembler(inputCols=[\"age\"], outputCol=\"features\")\n",
    "data = assembler.transform(df)\n"
   ]
  },
  {
   "cell_type": "code",
   "execution_count": null,
   "id": "1f2981a6",
   "metadata": {},
   "outputs": [],
   "source": [
    "\n",
    "train_data, test_data = data.randomSplit([0.7, 0.3], seed=42)\n"
   ]
  },
  {
   "cell_type": "code",
   "execution_count": null,
   "id": "8406ee2c",
   "metadata": {},
   "outputs": [],
   "source": [
    "\n",
    "from pyspark.ml.classification import LogisticRegression\n",
    "lr = LogisticRegression(labelCol=\"risk_label\", featuresCol=\"features\")\n",
    "model = lr.fit(train_data)\n"
   ]
  },
  {
   "cell_type": "code",
   "execution_count": null,
   "id": "c434dbe0",
   "metadata": {},
   "outputs": [],
   "source": [
    "\n",
    "predictions = model.transform(test_data)\n",
    "predictions.select(\"patient_id\", \"age\", \"risk_label\", \"prediction\", \"probability\").show()\n"
   ]
  },
  {
   "cell_type": "code",
   "execution_count": null,
   "id": "017bcf4a",
   "metadata": {},
   "outputs": [],
   "source": [
    "\n",
    "from pyspark.ml.evaluation import BinaryClassificationEvaluator\n",
    "evaluator = BinaryClassificationEvaluator(labelCol=\"risk_label\")\n",
    "accuracy = evaluator.evaluate(predictions)\n",
    "print(f\"Model Accuracy: {accuracy}\")\n"
   ]
  },
  {
   "cell_type": "code",
   "execution_count": null,
   "id": "1fa9c9fd",
   "metadata": {},
   "outputs": [],
   "source": [
    "\n",
    "predictions.select(\"patient_id\", \"age\", \"risk_label\", \"prediction\")     .write.csv(\"/FileStore/tables/patient_risk_predictions.csv\", header=True, mode=\"overwrite\")\n"
   ]
  }
 ],
 "metadata": {},
 "nbformat": 4,
 "nbformat_minor": 5
}
