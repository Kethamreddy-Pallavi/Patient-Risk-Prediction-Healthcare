
{
 "cells": [
  {
   "cell_type": "markdown",
   "metadata": {},
   "source": [
    "# Patient Risk Prediction – Healthcare"
   ]
  },
  {
   "cell_type": "code",
   "execution_count": null,
   "metadata": {},
   "outputs": [],
   "source": [
    "import pandas as pd
",
    "df = pd.read_csv('../data/patient_data.csv')
",
    "df.head()"
   ]
  },
  {
   "cell_type": "code",
   "execution_count": null,
   "metadata": {},
   "outputs": [],
   "source": [
    "from scripts.preprocess import preprocess_data
",
    "processed_df = preprocess_data('../data/patient_data.csv')
",
    "processed_df.head()"
   ]
  },
  {
   "cell_type": "code",
   "execution_count": null,
   "metadata": {},
   "outputs": [],
   "source": [
    "from sklearn.linear_model import LogisticRegression
",
    "from sklearn.model_selection import train_test_split
",
    "
",
    "X = processed_df.drop(columns=['patient_id', 'hospital_id', 'diagnosis_id', 'risk_score'])
",
    "y = (processed_df['risk_score'] > 0.7).astype(int)
",
    "
",
    "X_train, X_test, y_train, y_test = train_test_split(X, y, test_size=0.2)
",
    "model = LogisticRegression()
",
    "model.fit(X_train, y_train)
",
    "model.score(X_test, y_test)"
   ]
  }
 ],
 "metadata": {
  "kernelspec": {
   "display_name": "Python 3",
   "language": "python",
   "name": "python3"
  },
  "language_info": {
   "name": "python",
   "version": "3.8"
  }
 },
 "nbformat": 4,
 "nbformat_minor": 2
}
